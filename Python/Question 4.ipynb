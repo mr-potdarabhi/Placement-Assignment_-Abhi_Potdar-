{
 "cells": [
  {
   "cell_type": "markdown",
   "id": "28ff4b0a",
   "metadata": {},
   "source": [
    "## Question 4 -\n",
    "#### Write a program to download the data from the link given below and then read the data and convert the into the proper structure and return it as a CSV file.\n",
    "\n",
    "##### Link - https://data.nasa.gov/resource/y77d-th95.json\n"
   ]
  },
  {
   "cell_type": "code",
   "execution_count": 1,
   "id": "4135545c",
   "metadata": {},
   "outputs": [],
   "source": [
    "from urllib.request import urlopen\n",
    "import json\n",
    "import pandas as pd\n",
    "\n",
    "# store the URL in url as \n",
    "# parameter for urlopen\n",
    "url = \"https://data.nasa.gov/resource/y77d-th95.json\" \n",
    "# store the response of URL\n",
    "response = urlopen(url)\n",
    "  \n",
    "# storing the JSON response \n",
    "# from url in data\n",
    "data_json = json.loads(response.read())"
   ]
  },
  {
   "cell_type": "code",
   "execution_count": 2,
   "id": "f8bcafc7",
   "metadata": {},
   "outputs": [],
   "source": [
    "data_list = []\n",
    "for ele in data_json:\n",
    "    l = []\n",
    "    for x in ele.keys():\n",
    "        if type(ele[x]) == dict:\n",
    "            for y in ele[x].keys():\n",
    "                l.append(ele[x][y]) \n",
    "        else:        \n",
    "            l.append(ele[x])\n",
    "    data_list.append(l)"
   ]
  },
  {
   "cell_type": "code",
   "execution_count": 3,
   "id": "5848edfa",
   "metadata": {},
   "outputs": [],
   "source": [
    "df = pd.DataFrame(data_list)\n",
    "df = df.drop([11,12],axis=1)\n",
    "df.columns = ['Name of Earth Meteorite','ID of Earth Meteorite','nametype',' recclass','Mass of Earth Meteorite','Fall','Year at which Earth Meteorite was hit','reclat','reclong','Point','Coordinates']"
   ]
  },
  {
   "cell_type": "code",
   "execution_count": 4,
   "id": "d2089a25",
   "metadata": {},
   "outputs": [],
   "source": [
    "df.to_csv(\"Qstn4.csv\")"
   ]
  },
  {
   "cell_type": "code",
   "execution_count": 5,
   "id": "0132055c",
   "metadata": {},
   "outputs": [
    {
     "data": {
      "text/html": [
       "<div>\n",
       "<style scoped>\n",
       "    .dataframe tbody tr th:only-of-type {\n",
       "        vertical-align: middle;\n",
       "    }\n",
       "\n",
       "    .dataframe tbody tr th {\n",
       "        vertical-align: top;\n",
       "    }\n",
       "\n",
       "    .dataframe thead th {\n",
       "        text-align: right;\n",
       "    }\n",
       "</style>\n",
       "<table border=\"1\" class=\"dataframe\">\n",
       "  <thead>\n",
       "    <tr style=\"text-align: right;\">\n",
       "      <th></th>\n",
       "      <th>Name of Earth Meteorite</th>\n",
       "      <th>ID of Earth Meteorite</th>\n",
       "      <th>nametype</th>\n",
       "      <th>recclass</th>\n",
       "      <th>Mass of Earth Meteorite</th>\n",
       "      <th>Fall</th>\n",
       "      <th>Year at which Earth Meteorite was hit</th>\n",
       "      <th>reclat</th>\n",
       "      <th>reclong</th>\n",
       "      <th>Point</th>\n",
       "      <th>Coordinates</th>\n",
       "    </tr>\n",
       "  </thead>\n",
       "  <tbody>\n",
       "    <tr>\n",
       "      <th>0</th>\n",
       "      <td>Aachen</td>\n",
       "      <td>1</td>\n",
       "      <td>Valid</td>\n",
       "      <td>L5</td>\n",
       "      <td>21</td>\n",
       "      <td>Fell</td>\n",
       "      <td>1880-01-01T00:00:00.000</td>\n",
       "      <td>50.775000</td>\n",
       "      <td>6.083330</td>\n",
       "      <td>Point</td>\n",
       "      <td>[6.08333, 50.775]</td>\n",
       "    </tr>\n",
       "    <tr>\n",
       "      <th>1</th>\n",
       "      <td>Aarhus</td>\n",
       "      <td>2</td>\n",
       "      <td>Valid</td>\n",
       "      <td>H6</td>\n",
       "      <td>720</td>\n",
       "      <td>Fell</td>\n",
       "      <td>1951-01-01T00:00:00.000</td>\n",
       "      <td>56.183330</td>\n",
       "      <td>10.233330</td>\n",
       "      <td>Point</td>\n",
       "      <td>[10.23333, 56.18333]</td>\n",
       "    </tr>\n",
       "  </tbody>\n",
       "</table>\n",
       "</div>"
      ],
      "text/plain": [
       "  Name of Earth Meteorite ID of Earth Meteorite nametype  recclass  \\\n",
       "0                  Aachen                     1    Valid        L5   \n",
       "1                  Aarhus                     2    Valid        H6   \n",
       "\n",
       "  Mass of Earth Meteorite  Fall Year at which Earth Meteorite was hit  \\\n",
       "0                      21  Fell               1880-01-01T00:00:00.000   \n",
       "1                     720  Fell               1951-01-01T00:00:00.000   \n",
       "\n",
       "      reclat    reclong  Point           Coordinates  \n",
       "0  50.775000   6.083330  Point     [6.08333, 50.775]  \n",
       "1  56.183330  10.233330  Point  [10.23333, 56.18333]  "
      ]
     },
     "execution_count": 5,
     "metadata": {},
     "output_type": "execute_result"
    }
   ],
   "source": [
    "df.head(2)"
   ]
  },
  {
   "cell_type": "code",
   "execution_count": null,
   "id": "1466177d",
   "metadata": {},
   "outputs": [],
   "source": []
  }
 ],
 "metadata": {
  "kernelspec": {
   "display_name": "Python 3 (ipykernel)",
   "language": "python",
   "name": "python3"
  },
  "language_info": {
   "codemirror_mode": {
    "name": "ipython",
    "version": 3
   },
   "file_extension": ".py",
   "mimetype": "text/x-python",
   "name": "python",
   "nbconvert_exporter": "python",
   "pygments_lexer": "ipython3",
   "version": "3.9.13"
  }
 },
 "nbformat": 4,
 "nbformat_minor": 5
}
