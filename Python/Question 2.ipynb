{
 "cells": [
  {
   "cell_type": "markdown",
   "id": "c9330d2a",
   "metadata": {},
   "source": [
    "### Question 2: -\n",
    "#### Consider a string to be valid if all characters of the string appear the same number of times. It is also valid if he can remove just one character at the index in the string, and the remaining characters will occur the same number of times. Given a string, determine if it is valid. If so, return YES , otherwise return NO .\n"
   ]
  },
  {
   "cell_type": "code",
   "execution_count": 1,
   "id": "3f0495ec",
   "metadata": {},
   "outputs": [
    {
     "name": "stdout",
     "output_type": "stream",
     "text": [
      "YES\n",
      "NO\n"
     ]
    }
   ],
   "source": [
    "def isvalid(s):\n",
    "    if len(s)==1:\n",
    "        return \"YES\"\n",
    "    \n",
    "    d={}\n",
    "    for x in s:\n",
    "        if x not in d.keys():\n",
    "            d[x]=1\n",
    "        else:\n",
    "            d[x]=d[x]+1\n",
    "            \n",
    "    arr=[] ##empty array for i will keep all the freq.\n",
    "    for x in d.keys():\n",
    "        arr.append(d[x])\n",
    "        \n",
    "    arr.sort()\n",
    "    \n",
    "    n=len(arr)  ##lenght of char which are in my string\n",
    "    \n",
    "    #case-1 freq of char in string is same\n",
    "    if (arr[0]==arr[n-1]):\n",
    "        return \"YES\"\n",
    "    else:\n",
    "        return \"NO\"\n",
    "    \n",
    "print(isvalid(\"abc\"))\n",
    "print(isvalid(\"abcc\"))"
   ]
  },
  {
   "cell_type": "code",
   "execution_count": null,
   "id": "50e4f540",
   "metadata": {},
   "outputs": [],
   "source": []
  }
 ],
 "metadata": {
  "kernelspec": {
   "display_name": "Python 3 (ipykernel)",
   "language": "python",
   "name": "python3"
  },
  "language_info": {
   "codemirror_mode": {
    "name": "ipython",
    "version": 3
   },
   "file_extension": ".py",
   "mimetype": "text/x-python",
   "name": "python",
   "nbconvert_exporter": "python",
   "pygments_lexer": "ipython3",
   "version": "3.9.13"
  }
 },
 "nbformat": 4,
 "nbformat_minor": 5
}
