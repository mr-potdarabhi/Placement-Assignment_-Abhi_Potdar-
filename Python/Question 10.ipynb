{
 "cells": [
  {
   "attachments": {},
   "cell_type": "markdown",
   "id": "78040b7c",
   "metadata": {},
   "source": [
    "### Question 10 -\n",
    "##### Write a program to count the number of verbs, nouns, pronouns, and adjectives in a given particular phrase or paragraph, and return their respective count as a dictionary.\n",
    "Note -\n",
    "1. Write code comments wherever required for code\n",
    "2. You have to write at least 2 additional test cases in which your program will run successfully and provide\n",
    "an explanation for the same"
   ]
  },
  {
   "cell_type": "code",
   "execution_count": 23,
   "id": "c36a2b59",
   "metadata": {},
   "outputs": [
    {
     "name": "stdout",
     "output_type": "stream",
     "text": [
      "The cat sat on the mat.: {'Verbs': 1, 'Nouns': 2, 'Pronouns': 0, 'Adjectives': 0}\n",
      "----------------------------------------------------------------------------------------------------\n",
      "I am happy and excited to meet my friends.: {'Verbs': 3, 'Nouns': 1, 'Pronouns': 2, 'Adjectives': 1}\n",
      "----------------------------------------------------------------------------------------------------\n",
      "The old man walked slowly in the park.: {'Verbs': 1, 'Nouns': 2, 'Pronouns': 0, 'Adjectives': 1}\n",
      "\n",
      "\n"
     ]
    }
   ],
   "source": [
    "import nltk\n",
    "from nltk import pos_tag\n",
    "from nltk.tokenize import word_tokenize\n",
    "\n",
    "def count_pos_tags(text):\n",
    "    # Tokenize the text into words\n",
    "    words = word_tokenize(text)\n",
    "\n",
    "    # Perform part-of-speech tagging\n",
    "    tagged_words = pos_tag(words)\n",
    "\n",
    "    # Initialize counters\n",
    "    verb_count = 0\n",
    "    noun_count = 0\n",
    "    pronoun_count = 0\n",
    "    adjective_count = 0\n",
    "\n",
    "    # Count the different POS tags\n",
    "    for word, tag in tagged_words:\n",
    "        if tag.startswith('VB'):\n",
    "            verb_count += 1\n",
    "        elif tag.startswith('NN'):\n",
    "            noun_count += 1\n",
    "        elif tag.startswith('PRP'):\n",
    "            pronoun_count += 1\n",
    "        elif tag.startswith('JJ'):\n",
    "            adjective_count += 1\n",
    "\n",
    "    # Create a dictionary of counts\n",
    "    counts = {\n",
    "        'Verbs': verb_count,\n",
    "        'Nouns': noun_count,\n",
    "        'Pronouns': pronoun_count,\n",
    "        'Adjectives': adjective_count\n",
    "    }\n",
    "\n",
    "    return counts\n",
    "\n",
    "\n",
    "# Test case 1\n",
    "text1 = \"The cat sat on the mat.\"\n",
    "counts1 = count_pos_tags(text1)\n",
    "print(f'''{text1}: {counts1}''')\n",
    "# Output: {'Verbs': 1, 'Nouns': 2, 'Pronouns': 0, 'Adjectives': 0}\n",
    "print(\"-\"*100)\n",
    "\n",
    "# Test case 2\n",
    "text2 = \"I am happy and excited to meet my friends.\"\n",
    "counts2 = count_pos_tags(text2)\n",
    "print(f'''{text2}: {counts2}''')\n",
    "# Output: {'Verbs': 1, 'Nouns': 1, 'Pronouns': 1, 'Adjectives': 2}\n",
    "print(\"-\"*100)\n",
    "\n",
    "# Test case 3\n",
    "text3 = \"The old man walked slowly in the park.\"\n",
    "counts3 = count_pos_tags(text3)\n",
    "print(f'''{text3}: {counts3}''')\n",
    "# Output: {'Verbs': 1, 'Nouns': 2, 'Pronouns': 0, 'Adjectives': 1}\n",
    "print('\\n')\n"
   ]
  },
  {
   "cell_type": "code",
   "execution_count": 2,
   "id": "034f748f",
   "metadata": {},
   "outputs": [
    {
     "name": "stdout",
     "output_type": "stream",
     "text": [
      "Requirement already satisfied: nltk in c:\\users\\dell\\anaconda3\\lib\\site-packages (3.7)\n",
      "Requirement already satisfied: joblib in c:\\users\\dell\\anaconda3\\lib\\site-packages (from nltk) (1.1.0)\n",
      "Requirement already satisfied: regex>=2021.8.3 in c:\\users\\dell\\anaconda3\\lib\\site-packages (from nltk) (2022.7.9)\n",
      "Requirement already satisfied: click in c:\\users\\dell\\anaconda3\\lib\\site-packages (from nltk) (8.0.4)\n",
      "Requirement already satisfied: tqdm in c:\\users\\dell\\anaconda3\\lib\\site-packages (from nltk) (4.64.1)\n",
      "Requirement already satisfied: colorama in c:\\users\\dell\\anaconda3\\lib\\site-packages (from click->nltk) (0.4.5)\n",
      "Note: you may need to restart the kernel to use updated packages.\n"
     ]
    }
   ],
   "source": [
    "pip install nltk"
   ]
  },
  {
   "cell_type": "code",
   "execution_count": 6,
   "id": "9d67a9c7",
   "metadata": {},
   "outputs": [
    {
     "name": "stderr",
     "output_type": "stream",
     "text": [
      "[nltk_data] Downloading package punkt to\n",
      "[nltk_data]     C:\\Users\\DELL\\AppData\\Roaming\\nltk_data...\n",
      "[nltk_data]   Package punkt is already up-to-date!\n",
      "[nltk_data] Downloading package averaged_perceptron_tagger to\n",
      "[nltk_data]     C:\\Users\\DELL\\AppData\\Roaming\\nltk_data...\n",
      "[nltk_data]   Package averaged_perceptron_tagger is already up-to-\n",
      "[nltk_data]       date!\n"
     ]
    }
   ],
   "source": [
    "import nltk\n",
    "\n",
    "def download_nltk_resources():\n",
    "    nltk.download('punkt')\n",
    "    nltk.download('averaged_perceptron_tagger')\n",
    "\n",
    "# Call the function to download the resources\n",
    "download_nltk_resources()\n"
   ]
  },
  {
   "cell_type": "code",
   "execution_count": null,
   "id": "53bd3731",
   "metadata": {},
   "outputs": [],
   "source": []
  }
 ],
 "metadata": {
  "kernelspec": {
   "display_name": "Python 3 (ipykernel)",
   "language": "python",
   "name": "python3"
  },
  "language_info": {
   "codemirror_mode": {
    "name": "ipython",
    "version": 3
   },
   "file_extension": ".py",
   "mimetype": "text/x-python",
   "name": "python",
   "nbconvert_exporter": "python",
   "pygments_lexer": "ipython3",
   "version": "3.9.13"
  }
 },
 "nbformat": 4,
 "nbformat_minor": 5
}
