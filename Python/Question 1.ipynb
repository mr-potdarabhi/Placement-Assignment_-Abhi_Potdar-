{
 "cells": [
  {
   "attachments": {},
   "cell_type": "markdown",
   "id": "d585720c",
   "metadata": {},
   "source": [
    "### Question 1: -\n",
    "#### Write a program that takes a string as input, and counts the frequency of each word in the string, there mightbe repeated characters in the string. Your task is to find the highest frequency and returns the length of the highest-frequency word.\n"
   ]
  },
  {
   "cell_type": "code",
   "execution_count": 5,
   "id": "e7059422",
   "metadata": {},
   "outputs": [
    {
     "name": "stdout",
     "output_type": "stream",
     "text": [
      "ineuron ineuron data science :\n",
      " {'ineuron': 2, 'data': 1, 'science': 1}\n"
     ]
    }
   ],
   "source": [
    "string= input(\"Enter string: \")\n",
    "list1=[]\n",
    "list1=string.split()\n",
    "str_freq=[list1.count(ele) for ele in list1]\n",
    "\n",
    "print(f\"\"\"{string}:\\n {dict(zip(list1,str_freq))}\"\"\")"
   ]
  },
  {
   "cell_type": "code",
   "execution_count": null,
   "id": "ea47ac29",
   "metadata": {},
   "outputs": [],
   "source": []
  }
 ],
 "metadata": {
  "kernelspec": {
   "display_name": "Python 3 (ipykernel)",
   "language": "python",
   "name": "python3"
  },
  "language_info": {
   "codemirror_mode": {
    "name": "ipython",
    "version": 3
   },
   "file_extension": ".py",
   "mimetype": "text/x-python",
   "name": "python",
   "nbconvert_exporter": "python",
   "pygments_lexer": "ipython3",
   "version": "3.9.13"
  }
 },
 "nbformat": 4,
 "nbformat_minor": 5
}
