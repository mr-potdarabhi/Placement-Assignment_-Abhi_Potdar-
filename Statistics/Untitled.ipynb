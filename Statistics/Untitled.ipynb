{
 "cells": [
  {
   "cell_type": "markdown",
   "id": "8c37fa85",
   "metadata": {},
   "source": [
    "### Q-2.\n",
    "Consider a dataset containing the heights (in centimeters) of 1000 individuals. The\n",
    "mean height is 170 cm with a standard deviation of 10 cm. The dataset is approximately\n",
    "normally distributed, and its skewness is approximately zero. Based on this information,\n",
    "answer the following questions:\n",
    "    \n",
    "    a. What percentage of individuals in the dataset have heights between 160 cm\n",
    "        and 180 cm?\n",
    "    b. If we randomly select 100 individuals from the dataset, what is the probability\n",
    "        that their average height is greater than 175 cm?\n",
    "    c. Assuming the dataset follows a normal distribution, what is the z-score\n",
    "        corresponding to a height of 185 cm?\n",
    "    d. We know that 5% of the dataset has heights below a certain value. What is\n",
    "        the approximate height corresponding to this threshold?\n",
    "    e. Calculate the coefficient of variation (CV) for the dataset.\n",
    "    f. Calculate the skewness of the dataset and interpret the result."
   ]
  },
  {
   "cell_type": "markdown",
   "id": "70019129",
   "metadata": {},
   "source": []
  },
  {
   "cell_type": "code",
   "execution_count": null,
   "id": "22ee76dd",
   "metadata": {},
   "outputs": [],
   "source": []
  }
 ],
 "metadata": {
  "kernelspec": {
   "display_name": "Python 3 (ipykernel)",
   "language": "python",
   "name": "python3"
  },
  "language_info": {
   "codemirror_mode": {
    "name": "ipython",
    "version": 3
   },
   "file_extension": ".py",
   "mimetype": "text/x-python",
   "name": "python",
   "nbconvert_exporter": "python",
   "pygments_lexer": "ipython3",
   "version": "3.9.13"
  }
 },
 "nbformat": 4,
 "nbformat_minor": 5
}
