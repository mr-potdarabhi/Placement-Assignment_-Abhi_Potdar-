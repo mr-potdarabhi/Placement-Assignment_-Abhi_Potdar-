{
 "cells": [
  {
   "cell_type": "markdown",
   "id": "a9cf5452",
   "metadata": {},
   "source": [
    "**Q-4.** A group of 20 friends decide to play a game in which they each write a number\n",
    "between 1 and 20 on a slip of paper and put it into a hat. They then draw one slip of paper\n",
    "at random. What is the probability that the number on the slip of paper is a perfect square\n",
    "(i.e., 1, 4, 9, or 16)?\n",
    "\n",
    "\n"
   ]
  },
  {
   "cell_type": "markdown",
   "id": "f291c6ae",
   "metadata": {},
   "source": [
    "**Answer:** ==> The probability of drawing a perfect square number from the hat is 0.2 or 20%."
   ]
  },
  {
   "cell_type": "markdown",
   "id": "dcb129d8",
   "metadata": {},
   "source": [
    "explaination clear"
   ]
  },
  {
   "cell_type": "markdown",
   "id": "6f173e41",
   "metadata": {},
   "source": [
    "Answer:)-\n",
    "There are 4 perfect squares between 1 and 20, namely 1, 4, 9, and 16. There are a total of 20 numbers in the hat.\n",
    "\n",
    "Therefore, the probability of drawing a perfect square is given by:\n",
    "\n",
    "Probability = (Number of favorable outcomes) / (Total number of possible outcomes)\n",
    "\n",
    "Probability = (4 perfect squares) / (20 total numbers)\n",
    "\n",
    "Probability = 4/20\n",
    "\n",
    "Simplifying the fraction, we get:\n",
    "\n",
    "Probability = 1/5\n",
    "\\\n",
    "Therefore, the probability that the number on the slip of paper is a perfect square is 4/20 = 0.2.\n",
    "\n",
    "In other words, there is a 20% chance that the number on the slip of paper is a perfect square."
   ]
  },
  {
   "cell_type": "code",
   "execution_count": null,
   "id": "999ac05d",
   "metadata": {},
   "outputs": [],
   "source": []
  }
 ],
 "metadata": {
  "kernelspec": {
   "display_name": "Python 3 (ipykernel)",
   "language": "python",
   "name": "python3"
  },
  "language_info": {
   "codemirror_mode": {
    "name": "ipython",
    "version": 3
   },
   "file_extension": ".py",
   "mimetype": "text/x-python",
   "name": "python",
   "nbconvert_exporter": "python",
   "pygments_lexer": "ipython3",
   "version": "3.9.13"
  }
 },
 "nbformat": 4,
 "nbformat_minor": 5
}
