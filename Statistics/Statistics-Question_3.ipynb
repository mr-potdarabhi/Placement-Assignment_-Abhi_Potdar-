{
 "cells": [
  {
   "cell_type": "code",
   "execution_count": 5,
   "id": "774a82ce",
   "metadata": {},
   "outputs": [],
   "source": [
    "import pandas as pd\n",
    "df = pd.read_csv(\"blood.csv\")"
   ]
  },
  {
   "cell_type": "code",
   "execution_count": 6,
   "id": "b38813f7",
   "metadata": {},
   "outputs": [
    {
     "data": {
      "text/plain": [
       "Index(['Patient ID', ' Blood Pressure Before (mmHg)',\n",
       "       ' Blood Pressure After (mmHg)'],\n",
       "      dtype='object')"
      ]
     },
     "execution_count": 6,
     "metadata": {},
     "output_type": "execute_result"
    }
   ],
   "source": [
    "df.columns"
   ]
  },
  {
   "cell_type": "code",
   "execution_count": 7,
   "id": "2c96a75f",
   "metadata": {},
   "outputs": [
    {
     "data": {
      "text/plain": [
       "(100, 3)"
      ]
     },
     "execution_count": 7,
     "metadata": {},
     "output_type": "execute_result"
    }
   ],
   "source": [
    "df.shape"
   ]
  },
  {
   "cell_type": "code",
   "execution_count": 8,
   "id": "c0bc8d79",
   "metadata": {},
   "outputs": [],
   "source": [
    "import numpy as np"
   ]
  },
  {
   "cell_type": "code",
   "execution_count": 11,
   "id": "20b46f93",
   "metadata": {},
   "outputs": [
    {
     "name": "stdout",
     "output_type": "stream",
     "text": [
      "Dispersion in Blood Pressure before is: 6.5652037287505385\n"
     ]
    }
   ],
   "source": [
    "blood_Pressure_Before = np.std(df[' Blood Pressure Before (mmHg)'])\n",
    "print(\"Dispersion in Blood Pressure before is:\",blood_Pressure_Before)"
   ]
  },
  {
   "cell_type": "code",
   "execution_count": 13,
   "id": "ab8de959",
   "metadata": {},
   "outputs": [
    {
     "name": "stdout",
     "output_type": "stream",
     "text": [
      "Dispersion in Blood Pressure after is: 6.853495458523338\n"
     ]
    }
   ],
   "source": [
    "blood_Pressure_After = np.std(df[' Blood Pressure After (mmHg)'])\n",
    "print(\"Dispersion in Blood Pressure after is:\",blood_Pressure_After)"
   ]
  },
  {
   "cell_type": "code",
   "execution_count": 23,
   "id": "976fba92",
   "metadata": {},
   "outputs": [
    {
     "data": {
      "text/plain": [
       "133.91"
      ]
     },
     "execution_count": 23,
     "metadata": {},
     "output_type": "execute_result"
    }
   ],
   "source": [
    "np.mean(df[' Blood Pressure Before (mmHg)'])"
   ]
  },
  {
   "cell_type": "code",
   "execution_count": 24,
   "id": "4016b302",
   "metadata": {},
   "outputs": [
    {
     "data": {
      "text/plain": [
       "128.36"
      ]
     },
     "execution_count": 24,
     "metadata": {},
     "output_type": "execute_result"
    }
   ],
   "source": [
    "np.mean(df[' Blood Pressure After (mmHg)'])"
   ]
  },
  {
   "cell_type": "code",
   "execution_count": 26,
   "id": "a4a83b53",
   "metadata": {},
   "outputs": [
    {
     "name": "stdout",
     "output_type": "stream",
     "text": [
      "Mean Absolute Deviation of Blood pressure before: 5.7118\n"
     ]
    }
   ],
   "source": [
    "print(\"Mean Absolute Deviation of Blood pressure before:\",df[' Blood Pressure Before (mmHg)'].mad())"
   ]
  },
  {
   "cell_type": "code",
   "execution_count": 27,
   "id": "a08928c5",
   "metadata": {},
   "outputs": [
    {
     "name": "stdout",
     "output_type": "stream",
     "text": [
      "Mean Absolute Deviation of Blood pressure after: 5.9\n"
     ]
    }
   ],
   "source": [
    "print(\"Mean Absolute Deviation of Blood pressure after:\",df[' Blood Pressure After (mmHg)'].mad())"
   ]
  },
  {
   "cell_type": "code",
   "execution_count": 14,
   "id": "25aeba04",
   "metadata": {},
   "outputs": [
    {
     "data": {
      "text/html": [
       "<div>\n",
       "<style scoped>\n",
       "    .dataframe tbody tr th:only-of-type {\n",
       "        vertical-align: middle;\n",
       "    }\n",
       "\n",
       "    .dataframe tbody tr th {\n",
       "        vertical-align: top;\n",
       "    }\n",
       "\n",
       "    .dataframe thead th {\n",
       "        text-align: right;\n",
       "    }\n",
       "</style>\n",
       "<table border=\"1\" class=\"dataframe\">\n",
       "  <thead>\n",
       "    <tr style=\"text-align: right;\">\n",
       "      <th></th>\n",
       "      <th>Blood Pressure Before (mmHg)</th>\n",
       "      <th>Blood Pressure After (mmHg)</th>\n",
       "    </tr>\n",
       "  </thead>\n",
       "  <tbody>\n",
       "    <tr>\n",
       "      <th>Blood Pressure Before (mmHg)</th>\n",
       "      <td>1.000000</td>\n",
       "      <td>0.977949</td>\n",
       "    </tr>\n",
       "    <tr>\n",
       "      <th>Blood Pressure After (mmHg)</th>\n",
       "      <td>0.977949</td>\n",
       "      <td>1.000000</td>\n",
       "    </tr>\n",
       "  </tbody>\n",
       "</table>\n",
       "</div>"
      ],
      "text/plain": [
       "                                Blood Pressure Before (mmHg)  \\\n",
       " Blood Pressure Before (mmHg)                       1.000000   \n",
       " Blood Pressure After (mmHg)                        0.977949   \n",
       "\n",
       "                                Blood Pressure After (mmHg)  \n",
       " Blood Pressure Before (mmHg)                      0.977949  \n",
       " Blood Pressure After (mmHg)                       1.000000  "
      ]
     },
     "execution_count": 14,
     "metadata": {},
     "output_type": "execute_result"
    }
   ],
   "source": [
    "df.drop(\"Patient ID\",inplace=True,axis=1)\n",
    "df.corr(\"pearson\")"
   ]
  },
  {
   "cell_type": "code",
   "execution_count": 34,
   "id": "fb61e51c",
   "metadata": {},
   "outputs": [],
   "source": [
    "import math\n",
    "r = 0.977949\n",
    "n = 100"
   ]
  },
  {
   "cell_type": "code",
   "execution_count": 45,
   "id": "7df7f54b",
   "metadata": {},
   "outputs": [],
   "source": [
    "den = math.sqrt((1-r*r)/(n-2))"
   ]
  },
  {
   "cell_type": "code",
   "execution_count": 46,
   "id": "6c7b1e81",
   "metadata": {},
   "outputs": [],
   "source": [
    "t = r/den"
   ]
  },
  {
   "cell_type": "code",
   "execution_count": 47,
   "id": "de2fdcb5",
   "metadata": {},
   "outputs": [
    {
     "data": {
      "text/plain": [
       "46.3561709155614"
      ]
     },
     "execution_count": 47,
     "metadata": {},
     "output_type": "execute_result"
    }
   ],
   "source": [
    "t"
   ]
  },
  {
   "cell_type": "code",
   "execution_count": null,
   "id": "c088b7a9",
   "metadata": {},
   "outputs": [],
   "source": []
  },
  {
   "cell_type": "code",
   "execution_count": null,
   "id": "057a1d49",
   "metadata": {},
   "outputs": [],
   "source": []
  }
 ],
 "metadata": {
  "kernelspec": {
   "display_name": "Python 3 (ipykernel)",
   "language": "python",
   "name": "python3"
  },
  "language_info": {
   "codemirror_mode": {
    "name": "ipython",
    "version": 3
   },
   "file_extension": ".py",
   "mimetype": "text/x-python",
   "name": "python",
   "nbconvert_exporter": "python",
   "pygments_lexer": "ipython3",
   "version": "3.9.13"
  }
 },
 "nbformat": 4,
 "nbformat_minor": 5
}
