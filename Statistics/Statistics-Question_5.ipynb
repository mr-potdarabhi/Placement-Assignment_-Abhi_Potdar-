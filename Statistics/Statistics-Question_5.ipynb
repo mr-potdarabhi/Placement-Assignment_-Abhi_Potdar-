{
 "cells": [
  {
   "cell_type": "markdown",
   "id": "2aa093e0",
   "metadata": {},
   "source": [
    "**Q-5.** A certain city has two taxi companies: Company A has 80% of the taxis and\n",
    "Company B has 20% of the taxis. Company A's taxis have a 95% success rate for picking\n",
    "up passengers on time, while Company B's taxis have a 90% success rate. If a randomly\n",
    "selected taxi is late, what is the probability that it belongs to Company A?"
   ]
  },
  {
   "cell_type": "markdown",
   "id": "0d14a210",
   "metadata": {},
   "source": [
    "- Using Bayes Theorem,\n",
    "\n",
    "To solve this problem, we can use Bayes' theorem. Let's denote the following events:\n",
    "\n",
    "A: Taxi belongs to Company A. \\\n",
    "B: Taxi belongs to Company B. \\\n",
    "L: Taxi is late.\n",
    "\n",
    "- We need to find the probability of event A given that event L has occurred, denoted as P(A|L).\n",
    "- formula:\n",
    "    P(A|L) = (P(L|A) * P(A)) / P(L)\n",
    "\n",
    "- Given: \n",
    "\n",
    "P(A) = 0.8 (Company A has 80% of the taxis)\n",
    "P(B) = 0.2 (Company B has 20% of the taxis)\\\n",
    "P(L/A) = 0.05 (A's having 95% success rate so the probability of being late is 1 - 0.95 = 0.05)\\\n",
    "P(L/B) = 0.1 (B's having 90% success rate so the probability of being late is 1 - 0.9 = 0.1)\\\n",
    "P(L) =  P(L|A) * P(A) + P(L|B) * P(B)\n",
    "\n",
    "\\\n",
    "P(L) = (0.05 * 0.80) + (0.10 * 0.20)\\\n",
    "= 0.04 + 0.02\\\n",
    "= 0.06\n",
    "\n",
    "\\\n",
    "- Finally, substituting the calculated values into the formula for P(A|L):\n",
    "\n",
    "P(A|L) = (0.05 * 0.80) / 0.06 \\\n",
    "= 0.04 / 0.06 \\\n",
    "~ 0.6667 or 66.67%."
   ]
  },
  {
   "cell_type": "code",
   "execution_count": null,
   "id": "6884c90a",
   "metadata": {},
   "outputs": [],
   "source": []
  },
  {
   "cell_type": "code",
   "execution_count": null,
   "id": "7537d37e",
   "metadata": {},
   "outputs": [],
   "source": []
  }
 ],
 "metadata": {
  "kernelspec": {
   "display_name": "Python 3 (ipykernel)",
   "language": "python",
   "name": "python3"
  },
  "language_info": {
   "codemirror_mode": {
    "name": "ipython",
    "version": 3
   },
   "file_extension": ".py",
   "mimetype": "text/x-python",
   "name": "python",
   "nbconvert_exporter": "python",
   "pygments_lexer": "ipython3",
   "version": "3.9.13"
  }
 },
 "nbformat": 4,
 "nbformat_minor": 5
}
